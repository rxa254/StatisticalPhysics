{
 "cells": [
  {
   "cell_type": "markdown",
   "metadata": {},
   "source": [
    "# Dilute Quantum Gases\n",
    "#### Caltech - ph2c (Spring 2015)\n",
    "https://piazza.com/caltech/spring2015/ph2c/home\n",
    "### Intro to Statistical Physics and Thermodynamics"
   ]
  },
  {
   "cell_type": "code",
   "execution_count": 1,
   "metadata": {
    "collapsed": false
   },
   "outputs": [],
   "source": [
    "# Loading needed libraries and setting up preferences\n",
    "%matplotlib inline\n",
    "import numpy as np\n",
    "import matplotlib.pyplot as plt\n",
    "#import scipy.signal as sig\n",
    "import scipy.constants as const\n",
    "from mpl_toolkits.mplot3d import Axes3D\n",
    "\n",
    "# Update the matplotlib configuration parameters:\n",
    "plt.rcParams.update({'font.size': 20,\n",
    "                     'font.family': 'serif',\n",
    "                     'figure.figsize': (10, 8),\n",
    "                     'axes.grid': True,\n",
    "                     'grid.color': '#555555'})"
   ]
  },
  {
   "cell_type": "markdown",
   "metadata": {},
   "source": [
    "## do the Plots"
   ]
  },
  {
   "cell_type": "code",
   "execution_count": 11,
   "metadata": {
    "collapsed": false
   },
   "outputs": [
    {
     "name": "stderr",
     "output_type": "stream",
     "text": [
      "/opt/local/Library/Frameworks/Python.framework/Versions/2.7/lib/python2.7/site-packages/IPython/kernel/__main__.py:4: RuntimeWarning: overflow encountered in exp\n"
     ]
    },
    {
     "data": {
      "image/png": "[encoded data removed]",
      "text/plain": [
       "<matplotlib.figure.Figure at 0x10e5daa50>"
      ]
     },
     "metadata": {},
     "output_type": "display_data"
    }
   ],
   "source": [
    "# define the distribution functions\n",
    "\n",
    "def N(epsilon, m, tau):\n",
    "    y = 1 / (np.exp((epsilon - m)/tau) + 1)\n",
    "    return y\n",
    "\n",
    "epsilon = np.linspace(0,2,10000)\n",
    "mu = 1\n",
    "\n",
    "fig = plt.figure(figsize=(8,4))\n",
    "\n",
    "plt.plot(epsilon, N(epsilon, mu, 0.001), color='Blue', lw=5, label='$\\tau = 0$')\n",
    "plt.plot(epsilon, N(epsilon, mu, 0.100), color='Red', lw=5, alpha=0.5, label='$\\tau = 0.1$')\n",
    "\n",
    "#plt.grid(color='gray', alpha=0.15, linestyle='dashed', linewidth=2)\n",
    "plt.ylabel(r'N($\\epsilon$)', fontsize=18);\n",
    "plt.xlabel(r'$\\epsilon/\\epsilon_F$', fontsize=18);\n",
    "#plt.zlabel(r'$\\Psi$', fontsize=18);\n",
    "#plt.title('Output Noise of AD797 stage (changing R97)')\n",
    "#plt.legend([str(Ts[0])+' K', str(Ts[1])+' K', str(Ts[2])+' K'], loc=1, fontsize=16)\n",
    "#plt.xlim((-0.3*bsize, 1.3*bsize))\n",
    "plt.ylim((0, 1.1))\n",
    "plt.savefig(\"FermiDirac.pdf\", bbox_inches='tight')\n",
    "plt.show()"
   ]
  },
  {
   "cell_type": "code",
   "execution_count": 3,
   "metadata": {
    "collapsed": false
   },
   "outputs": [
    {
     "name": "stdout",
     "output_type": "stream",
     "text": [
      "2.71828182846\n"
     ]
    }
   ],
   "source": [
    "print np.e"
   ]
  },
  {
   "cell_type": "code",
   "execution_count": null,
   "metadata": {
    "collapsed": false
   },
   "outputs": [],
   "source": []
  }
 ],
 "metadata": {
  "kernelspec": {
   "display_name": "Python 2",
   "language": "python",
   "name": "python2"
  },
  "language_info": {
   "codemirror_mode": {
    "name": "ipython",
    "version": 2
   },
   "file_extension": ".py",
   "mimetype": "text/x-python",
   "name": "python",
   "nbconvert_exporter": "python",
   "pygments_lexer": "ipython2",
   "version": "2.7.9"
  },
  "name": "BlackBodySpectra.ipynb"
 },
 "nbformat": 4,
 "nbformat_minor": 0
}
