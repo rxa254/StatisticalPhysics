{
 "cells": [
  {
   "cell_type": "markdown",
   "id": "identified-coupon",
   "metadata": {},
   "source": [
    "# Compare the accuracy of Stirling's approximation to the factorial and the Gamma function"
   ]
  },
  {
   "cell_type": "code",
   "execution_count": null,
   "id": "macro-notebook",
   "metadata": {
    "collapsed": false,
    "jupyter": {
     "outputs_hidden": false
    }
   },
   "outputs": [],
   "source": [
    "# Library Imports and Python parameter settings\n",
    "#%matplotlib inline\n",
    "#from __future__ import division\n",
    "import numpy as np\n",
    "import matplotlib.pyplot as plt\n",
    "\n",
    "import scipy.special as scisp\n",
    "import scipy.constants as const\n",
    "\n",
    "# Update the matplotlib configuration parameters:\n",
    "plt.rcParams.update({'font.size': 20,\n",
    "                     'font.family': 'serif',\n",
    "                     'figure.figsize': (10, 8),\n",
    "                     'axes.grid': True,\n",
    "                     'grid.color': '#555555'})"
   ]
  },
  {
   "cell_type": "code",
   "execution_count": null,
   "id": "british-recipient",
   "metadata": {
    "collapsed": false,
    "jupyter": {
     "outputs_hidden": false
    }
   },
   "outputs": [],
   "source": [
    "fig = plt.figure(figsize=(16, 9))\n",
    "\n",
    "N = np.arange(3,33)\n",
    "Nfac = np.log(scisp.factorial(N))\n",
    "Stirling1 = N*np.log(N) - N\n",
    "Stirling2 = N*np.log(N) - N + 1/2*np.log(2*np.pi*N)\n",
    "\n",
    "plt.subplot(211)\n",
    "plt.plot(N, Nfac, linestyle='None', lw=0, marker='.', alpha=0.90, markersize=22, mfc='Green',\n",
    "             label=\"$log(N!)$\")\n",
    "\n",
    "plt.plot(N, np.log(scisp.gamma(N+1)), linestyle='-', lw=5, alpha=0.75, color='Purple',\n",
    "             label=\"$log(\\Gamma(N+1))$\")\n",
    "\n",
    "plt.plot(N, Stirling1, linestyle='-', lw=2, alpha=0.75, color='Red',\n",
    "             label=\"$N log(N) - N$\")\n",
    "\n",
    "plt.plot(N, Stirling2, linestyle='-', lw=2, alpha=0.55, color='Orange',\n",
    "             label=\"$N log(N) -N + 1/2*log(2 \\pi N)$\")\n",
    "\n",
    "plt.xlabel(r'N', fontsize=18)\n",
    "#plt.ylabel(r'Displacment [m/$\\sqrt{Hz}$]', fontsize=18)\n",
    "\n",
    "#plt.title(\"IR Transmission during ALS Scan\");\n",
    "plt.grid(b=True, which=\"major\", color='gray', alpha=0.33, linestyle='-' , lw=4)\n",
    "plt.grid(b=True, which=\"minor\", color='gray', alpha=0.22, linestyle='--', lw=1)\n",
    "#plt.axis('tight')\n",
    "#plt.xlim((5, 5000))\n",
    "#plt.ylim((1e-20, 1e-13))\n",
    "\n",
    "leg = plt.legend(loc='best', fancybox=True, fontsize=18)\n",
    "leg.get_frame().set_alpha(0.85)\n",
    "\n",
    "plt.subplot(212)\n",
    "plt.semilogy(N, 1 - Stirling1/Nfac, linestyle='None', lw=0, marker='.', alpha=0.90, markersize=22, mfc='Red',\n",
    "             label=\"$N log(N) - N$\")\n",
    "plt.semilogy(N, 1 - Stirling2/Nfac, linestyle='-', lw=2, alpha=0.55, color='Orange',\n",
    "             label=\"$N log(N) -N + 1/2*log(2 \\pi N)$\")\n",
    "\n",
    "plt.xlabel(r'N', fontsize=18)\n",
    "plt.ylabel(r'fractional error')\n",
    "plt.grid(b=True, which=\"major\", color='gray', alpha=0.33, linestyle='-' , lw=4)\n",
    "plt.grid(b=True, which=\"minor\", color='gray', alpha=0.22, linestyle='--', lw=1)\n",
    "\n",
    "leg = plt.legend(loc='best', fancybox=True, fontsize=18)\n",
    "leg.get_frame().set_alpha(0.85)\n",
    "\n",
    "plt.savefig(\"Stirling.pdf\", bbox_inches='tight')\n",
    "#np.savetxt('L1DARM_150214.txt', np.transpose([f, asd]), fmt='%1.4e')\n",
    "plt.show()"
   ]
  },
  {
   "cell_type": "markdown",
   "id": "specified-trauma",
   "metadata": {},
   "source": [
    "## Some references\n",
    "* http://en.wikipedia.org/wiki/Stirling%27s_approximation\n",
    "* http://wiki.scipy.org/NumPy_for_Matlab_Users\n",
    "* http://nbviewer.ipython.org/github/jrjohansson/scientific-python-lectures/blob/master/Lecture-0-Scientific-Computing-with-Python.ipynb"
   ]
  },
  {
   "cell_type": "code",
   "execution_count": null,
   "id": "executed-suggestion",
   "metadata": {
    "collapsed": false,
    "jupyter": {
     "outputs_hidden": false
    }
   },
   "outputs": [],
   "source": []
  }
 ],
 "metadata": {
  "kernelspec": {
   "display_name": "Python 3",
   "language": "python",
   "name": "python3"
  },
  "language_info": {
   "codemirror_mode": {
    "name": "ipython",
    "version": 3
   },
   "file_extension": ".py",
   "mimetype": "text/x-python",
   "name": "python",
   "nbconvert_exporter": "python",
   "pygments_lexer": "ipython3",
   "version": "3.8.8"
  }
 },
 "nbformat": 4,
 "nbformat_minor": 5
}
